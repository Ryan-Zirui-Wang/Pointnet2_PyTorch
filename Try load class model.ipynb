{
 "cells": [
  {
   "cell_type": "code",
   "execution_count": 1,
   "metadata": {},
   "outputs": [],
   "source": [
    "%load_ext autoreload\n",
    "%autoreload 2"
   ]
  },
  {
   "cell_type": "markdown",
   "metadata": {},
   "source": [
    "# Load model"
   ]
  },
  {
   "cell_type": "code",
   "execution_count": 2,
   "metadata": {},
   "outputs": [
    {
     "data": {
      "text/plain": [
       "Pointnet2MSG(\n",
       "  (SA_modules): ModuleList(\n",
       "    (0): PointnetSAModuleMSG(\n",
       "      (groupers): ModuleList(\n",
       "        (0): QueryAndGroup()\n",
       "        (1): QueryAndGroup()\n",
       "      )\n",
       "      (mlps): ModuleList(\n",
       "        (0): SharedMLP(\n",
       "          (layer0): Conv2d(\n",
       "            (conv): Conv2d(3, 16, kernel_size=(1, 1), stride=(1, 1), bias=False)\n",
       "            (normlayer): BatchNorm2d(\n",
       "              (bn): BatchNorm2d(16, eps=1e-05, momentum=0.1, affine=True, track_running_stats=True)\n",
       "            )\n",
       "            (activation): ReLU(inplace)\n",
       "          )\n",
       "          (layer1): Conv2d(\n",
       "            (conv): Conv2d(16, 16, kernel_size=(1, 1), stride=(1, 1), bias=False)\n",
       "            (normlayer): BatchNorm2d(\n",
       "              (bn): BatchNorm2d(16, eps=1e-05, momentum=0.1, affine=True, track_running_stats=True)\n",
       "            )\n",
       "            (activation): ReLU(inplace)\n",
       "          )\n",
       "          (layer2): Conv2d(\n",
       "            (conv): Conv2d(16, 32, kernel_size=(1, 1), stride=(1, 1), bias=False)\n",
       "            (normlayer): BatchNorm2d(\n",
       "              (bn): BatchNorm2d(32, eps=1e-05, momentum=0.1, affine=True, track_running_stats=True)\n",
       "            )\n",
       "            (activation): ReLU(inplace)\n",
       "          )\n",
       "        )\n",
       "        (1): SharedMLP(\n",
       "          (layer0): Conv2d(\n",
       "            (conv): Conv2d(3, 32, kernel_size=(1, 1), stride=(1, 1), bias=False)\n",
       "            (normlayer): BatchNorm2d(\n",
       "              (bn): BatchNorm2d(32, eps=1e-05, momentum=0.1, affine=True, track_running_stats=True)\n",
       "            )\n",
       "            (activation): ReLU(inplace)\n",
       "          )\n",
       "          (layer1): Conv2d(\n",
       "            (conv): Conv2d(32, 32, kernel_size=(1, 1), stride=(1, 1), bias=False)\n",
       "            (normlayer): BatchNorm2d(\n",
       "              (bn): BatchNorm2d(32, eps=1e-05, momentum=0.1, affine=True, track_running_stats=True)\n",
       "            )\n",
       "            (activation): ReLU(inplace)\n",
       "          )\n",
       "          (layer2): Conv2d(\n",
       "            (conv): Conv2d(32, 64, kernel_size=(1, 1), stride=(1, 1), bias=False)\n",
       "            (normlayer): BatchNorm2d(\n",
       "              (bn): BatchNorm2d(64, eps=1e-05, momentum=0.1, affine=True, track_running_stats=True)\n",
       "            )\n",
       "            (activation): ReLU(inplace)\n",
       "          )\n",
       "        )\n",
       "      )\n",
       "    )\n",
       "    (1): PointnetSAModuleMSG(\n",
       "      (groupers): ModuleList(\n",
       "        (0): QueryAndGroup()\n",
       "        (1): QueryAndGroup()\n",
       "      )\n",
       "      (mlps): ModuleList(\n",
       "        (0): SharedMLP(\n",
       "          (layer0): Conv2d(\n",
       "            (conv): Conv2d(99, 64, kernel_size=(1, 1), stride=(1, 1), bias=False)\n",
       "            (normlayer): BatchNorm2d(\n",
       "              (bn): BatchNorm2d(64, eps=1e-05, momentum=0.1, affine=True, track_running_stats=True)\n",
       "            )\n",
       "            (activation): ReLU(inplace)\n",
       "          )\n",
       "          (layer1): Conv2d(\n",
       "            (conv): Conv2d(64, 64, kernel_size=(1, 1), stride=(1, 1), bias=False)\n",
       "            (normlayer): BatchNorm2d(\n",
       "              (bn): BatchNorm2d(64, eps=1e-05, momentum=0.1, affine=True, track_running_stats=True)\n",
       "            )\n",
       "            (activation): ReLU(inplace)\n",
       "          )\n",
       "          (layer2): Conv2d(\n",
       "            (conv): Conv2d(64, 128, kernel_size=(1, 1), stride=(1, 1), bias=False)\n",
       "            (normlayer): BatchNorm2d(\n",
       "              (bn): BatchNorm2d(128, eps=1e-05, momentum=0.1, affine=True, track_running_stats=True)\n",
       "            )\n",
       "            (activation): ReLU(inplace)\n",
       "          )\n",
       "        )\n",
       "        (1): SharedMLP(\n",
       "          (layer0): Conv2d(\n",
       "            (conv): Conv2d(99, 64, kernel_size=(1, 1), stride=(1, 1), bias=False)\n",
       "            (normlayer): BatchNorm2d(\n",
       "              (bn): BatchNorm2d(64, eps=1e-05, momentum=0.1, affine=True, track_running_stats=True)\n",
       "            )\n",
       "            (activation): ReLU(inplace)\n",
       "          )\n",
       "          (layer1): Conv2d(\n",
       "            (conv): Conv2d(64, 96, kernel_size=(1, 1), stride=(1, 1), bias=False)\n",
       "            (normlayer): BatchNorm2d(\n",
       "              (bn): BatchNorm2d(96, eps=1e-05, momentum=0.1, affine=True, track_running_stats=True)\n",
       "            )\n",
       "            (activation): ReLU(inplace)\n",
       "          )\n",
       "          (layer2): Conv2d(\n",
       "            (conv): Conv2d(96, 128, kernel_size=(1, 1), stride=(1, 1), bias=False)\n",
       "            (normlayer): BatchNorm2d(\n",
       "              (bn): BatchNorm2d(128, eps=1e-05, momentum=0.1, affine=True, track_running_stats=True)\n",
       "            )\n",
       "            (activation): ReLU(inplace)\n",
       "          )\n",
       "        )\n",
       "      )\n",
       "    )\n",
       "    (2): PointnetSAModuleMSG(\n",
       "      (groupers): ModuleList(\n",
       "        (0): QueryAndGroup()\n",
       "        (1): QueryAndGroup()\n",
       "      )\n",
       "      (mlps): ModuleList(\n",
       "        (0): SharedMLP(\n",
       "          (layer0): Conv2d(\n",
       "            (conv): Conv2d(259, 128, kernel_size=(1, 1), stride=(1, 1), bias=False)\n",
       "            (normlayer): BatchNorm2d(\n",
       "              (bn): BatchNorm2d(128, eps=1e-05, momentum=0.1, affine=True, track_running_stats=True)\n",
       "            )\n",
       "            (activation): ReLU(inplace)\n",
       "          )\n",
       "          (layer1): Conv2d(\n",
       "            (conv): Conv2d(128, 196, kernel_size=(1, 1), stride=(1, 1), bias=False)\n",
       "            (normlayer): BatchNorm2d(\n",
       "              (bn): BatchNorm2d(196, eps=1e-05, momentum=0.1, affine=True, track_running_stats=True)\n",
       "            )\n",
       "            (activation): ReLU(inplace)\n",
       "          )\n",
       "          (layer2): Conv2d(\n",
       "            (conv): Conv2d(196, 256, kernel_size=(1, 1), stride=(1, 1), bias=False)\n",
       "            (normlayer): BatchNorm2d(\n",
       "              (bn): BatchNorm2d(256, eps=1e-05, momentum=0.1, affine=True, track_running_stats=True)\n",
       "            )\n",
       "            (activation): ReLU(inplace)\n",
       "          )\n",
       "        )\n",
       "        (1): SharedMLP(\n",
       "          (layer0): Conv2d(\n",
       "            (conv): Conv2d(259, 128, kernel_size=(1, 1), stride=(1, 1), bias=False)\n",
       "            (normlayer): BatchNorm2d(\n",
       "              (bn): BatchNorm2d(128, eps=1e-05, momentum=0.1, affine=True, track_running_stats=True)\n",
       "            )\n",
       "            (activation): ReLU(inplace)\n",
       "          )\n",
       "          (layer1): Conv2d(\n",
       "            (conv): Conv2d(128, 196, kernel_size=(1, 1), stride=(1, 1), bias=False)\n",
       "            (normlayer): BatchNorm2d(\n",
       "              (bn): BatchNorm2d(196, eps=1e-05, momentum=0.1, affine=True, track_running_stats=True)\n",
       "            )\n",
       "            (activation): ReLU(inplace)\n",
       "          )\n",
       "          (layer2): Conv2d(\n",
       "            (conv): Conv2d(196, 256, kernel_size=(1, 1), stride=(1, 1), bias=False)\n",
       "            (normlayer): BatchNorm2d(\n",
       "              (bn): BatchNorm2d(256, eps=1e-05, momentum=0.1, affine=True, track_running_stats=True)\n",
       "            )\n",
       "            (activation): ReLU(inplace)\n",
       "          )\n",
       "        )\n",
       "      )\n",
       "    )\n",
       "    (3): PointnetSAModuleMSG(\n",
       "      (groupers): ModuleList(\n",
       "        (0): QueryAndGroup()\n",
       "        (1): QueryAndGroup()\n",
       "      )\n",
       "      (mlps): ModuleList(\n",
       "        (0): SharedMLP(\n",
       "          (layer0): Conv2d(\n",
       "            (conv): Conv2d(515, 256, kernel_size=(1, 1), stride=(1, 1), bias=False)\n",
       "            (normlayer): BatchNorm2d(\n",
       "              (bn): BatchNorm2d(256, eps=1e-05, momentum=0.1, affine=True, track_running_stats=True)\n",
       "            )\n",
       "            (activation): ReLU(inplace)\n",
       "          )\n",
       "          (layer1): Conv2d(\n",
       "            (conv): Conv2d(256, 256, kernel_size=(1, 1), stride=(1, 1), bias=False)\n",
       "            (normlayer): BatchNorm2d(\n",
       "              (bn): BatchNorm2d(256, eps=1e-05, momentum=0.1, affine=True, track_running_stats=True)\n",
       "            )\n",
       "            (activation): ReLU(inplace)\n",
       "          )\n",
       "          (layer2): Conv2d(\n",
       "            (conv): Conv2d(256, 512, kernel_size=(1, 1), stride=(1, 1), bias=False)\n",
       "            (normlayer): BatchNorm2d(\n",
       "              (bn): BatchNorm2d(512, eps=1e-05, momentum=0.1, affine=True, track_running_stats=True)\n",
       "            )\n",
       "            (activation): ReLU(inplace)\n",
       "          )\n",
       "        )\n",
       "        (1): SharedMLP(\n",
       "          (layer0): Conv2d(\n",
       "            (conv): Conv2d(515, 256, kernel_size=(1, 1), stride=(1, 1), bias=False)\n",
       "            (normlayer): BatchNorm2d(\n",
       "              (bn): BatchNorm2d(256, eps=1e-05, momentum=0.1, affine=True, track_running_stats=True)\n",
       "            )\n",
       "            (activation): ReLU(inplace)\n",
       "          )\n",
       "          (layer1): Conv2d(\n",
       "            (conv): Conv2d(256, 384, kernel_size=(1, 1), stride=(1, 1), bias=False)\n",
       "            (normlayer): BatchNorm2d(\n",
       "              (bn): BatchNorm2d(384, eps=1e-05, momentum=0.1, affine=True, track_running_stats=True)\n",
       "            )\n",
       "            (activation): ReLU(inplace)\n",
       "          )\n",
       "          (layer2): Conv2d(\n",
       "            (conv): Conv2d(384, 512, kernel_size=(1, 1), stride=(1, 1), bias=False)\n",
       "            (normlayer): BatchNorm2d(\n",
       "              (bn): BatchNorm2d(512, eps=1e-05, momentum=0.1, affine=True, track_running_stats=True)\n",
       "            )\n",
       "            (activation): ReLU(inplace)\n",
       "          )\n",
       "        )\n",
       "      )\n",
       "    )\n",
       "  )\n",
       "  (FP_modules): ModuleList(\n",
       "    (0): PointnetFPModule(\n",
       "      (mlp): SharedMLP(\n",
       "        (layer0): Conv2d(\n",
       "          (conv): Conv2d(256, 128, kernel_size=(1, 1), stride=(1, 1), bias=False)\n",
       "          (normlayer): BatchNorm2d(\n",
       "            (bn): BatchNorm2d(128, eps=1e-05, momentum=0.1, affine=True, track_running_stats=True)\n",
       "          )\n",
       "          (activation): ReLU(inplace)\n",
       "        )\n",
       "        (layer1): Conv2d(\n",
       "          (conv): Conv2d(128, 128, kernel_size=(1, 1), stride=(1, 1), bias=False)\n",
       "          (normlayer): BatchNorm2d(\n",
       "            (bn): BatchNorm2d(128, eps=1e-05, momentum=0.1, affine=True, track_running_stats=True)\n",
       "          )\n",
       "          (activation): ReLU(inplace)\n",
       "        )\n",
       "      )\n",
       "    )\n",
       "    (1): PointnetFPModule(\n",
       "      (mlp): SharedMLP(\n",
       "        (layer0): Conv2d(\n",
       "          (conv): Conv2d(608, 256, kernel_size=(1, 1), stride=(1, 1), bias=False)\n",
       "          (normlayer): BatchNorm2d(\n",
       "            (bn): BatchNorm2d(256, eps=1e-05, momentum=0.1, affine=True, track_running_stats=True)\n",
       "          )\n",
       "          (activation): ReLU(inplace)\n",
       "        )\n",
       "        (layer1): Conv2d(\n",
       "          (conv): Conv2d(256, 256, kernel_size=(1, 1), stride=(1, 1), bias=False)\n",
       "          (normlayer): BatchNorm2d(\n",
       "            (bn): BatchNorm2d(256, eps=1e-05, momentum=0.1, affine=True, track_running_stats=True)\n",
       "          )\n",
       "          (activation): ReLU(inplace)\n",
       "        )\n",
       "      )\n",
       "    )\n",
       "    (2): PointnetFPModule(\n",
       "      (mlp): SharedMLP(\n",
       "        (layer0): Conv2d(\n",
       "          (conv): Conv2d(768, 512, kernel_size=(1, 1), stride=(1, 1), bias=False)\n",
       "          (normlayer): BatchNorm2d(\n",
       "            (bn): BatchNorm2d(512, eps=1e-05, momentum=0.1, affine=True, track_running_stats=True)\n",
       "          )\n",
       "          (activation): ReLU(inplace)\n",
       "        )\n",
       "        (layer1): Conv2d(\n",
       "          (conv): Conv2d(512, 512, kernel_size=(1, 1), stride=(1, 1), bias=False)\n",
       "          (normlayer): BatchNorm2d(\n",
       "            (bn): BatchNorm2d(512, eps=1e-05, momentum=0.1, affine=True, track_running_stats=True)\n",
       "          )\n",
       "          (activation): ReLU(inplace)\n",
       "        )\n",
       "      )\n",
       "    )\n",
       "    (3): PointnetFPModule(\n",
       "      (mlp): SharedMLP(\n",
       "        (layer0): Conv2d(\n",
       "          (conv): Conv2d(1536, 512, kernel_size=(1, 1), stride=(1, 1), bias=False)\n",
       "          (normlayer): BatchNorm2d(\n",
       "            (bn): BatchNorm2d(512, eps=1e-05, momentum=0.1, affine=True, track_running_stats=True)\n",
       "          )\n",
       "          (activation): ReLU(inplace)\n",
       "        )\n",
       "        (layer1): Conv2d(\n",
       "          (conv): Conv2d(512, 512, kernel_size=(1, 1), stride=(1, 1), bias=False)\n",
       "          (normlayer): BatchNorm2d(\n",
       "            (bn): BatchNorm2d(512, eps=1e-05, momentum=0.1, affine=True, track_running_stats=True)\n",
       "          )\n",
       "          (activation): ReLU(inplace)\n",
       "        )\n",
       "      )\n",
       "    )\n",
       "  )\n",
       "  (FC_layer): Seq(\n",
       "    (0): Conv1d(\n",
       "      (conv): Conv1d(128, 128, kernel_size=(1,), stride=(1,), bias=False)\n",
       "      (normlayer): BatchNorm1d(\n",
       "        (bn): BatchNorm1d(128, eps=1e-05, momentum=0.1, affine=True, track_running_stats=True)\n",
       "      )\n",
       "      (activation): ReLU(inplace)\n",
       "    )\n",
       "    (1): Dropout(p=0.5)\n",
       "    (2): Conv1d(\n",
       "      (conv): Conv1d(128, 13, kernel_size=(1,), stride=(1,))\n",
       "    )\n",
       "  )\n",
       ")"
      ]
     },
     "execution_count": 2,
     "metadata": {},
     "output_type": "execute_result"
    }
   ],
   "source": [
    "from pointnet2.models.pointnet2_msg_sem import Pointnet2MSG\n",
    "import torch.nn as nn\n",
    "\n",
    "model = Pointnet2MSG(num_classes=13, input_channels=0, use_xyz=True)\n",
    "model.cuda()"
   ]
  },
  {
   "cell_type": "code",
   "execution_count": 3,
   "metadata": {},
   "outputs": [],
   "source": [
    "import etw_pytorch_utils.pytorch_utils as pt_utils\n",
    "import torch\n",
    "\n",
    "checkpoint_name = \"checkpoints/poitnet2_semseg_best.pth.tar\"\n",
    "checkpoint = torch.load(checkpoint_name)\n",
    "model.load_state_dict(checkpoint[\"model_state\"])"
   ]
  },
  {
   "cell_type": "markdown",
   "metadata": {},
   "source": [
    "# Load dataset "
   ]
  },
  {
   "cell_type": "code",
   "execution_count": 4,
   "metadata": {},
   "outputs": [],
   "source": [
    "from pointnet2.data.Indoor3DSemSegLoader import Indoor3DSemSeg\n",
    "num_points = 4096\n",
    "train_set = Indoor3DSemSeg(num_points, download=False)"
   ]
  },
  {
   "cell_type": "code",
   "execution_count": 5,
   "metadata": {},
   "outputs": [
    {
     "name": "stdout",
     "output_type": "stream",
     "text": [
      "(16733, 4096, 3)\n",
      "(16733, 4096)\n"
     ]
    }
   ],
   "source": [
    "# num of 3d models, num of points in each model, xyz cood\n",
    "print(train_set.points.shape)\n",
    "print(train_set.labels.shape)"
   ]
  },
  {
   "cell_type": "code",
   "execution_count": 6,
   "metadata": {},
   "outputs": [
    {
     "data": {
      "text/plain": [
       "<Figure size 640x480 with 1 Axes>"
      ]
     },
     "metadata": {},
     "output_type": "display_data"
    }
   ],
   "source": [
    "from matplotlib import pyplot\n",
    "from mpl_toolkits.mplot3d import Axes3D\n",
    "import random\n",
    "\n",
    "fig = pyplot.figure()\n",
    "ax = Axes3D(fig)\n",
    "\n",
    "data_to_draw = train_set.points[12]\n",
    "\n",
    "sequence_containing_x_vals = data_to_draw[:, 0]\n",
    "sequence_containing_y_vals = data_to_draw[:, 1]\n",
    "sequence_containing_z_vals = data_to_draw[:, 2]\n",
    "\n",
    "ax.scatter(sequence_containing_x_vals, sequence_containing_y_vals, sequence_containing_z_vals)\n",
    "pyplot.show()"
   ]
  },
  {
   "cell_type": "code",
   "execution_count": 7,
   "metadata": {},
   "outputs": [],
   "source": [
    "from torch.utils.data import DataLoader\n",
    "batch_size = 1\n",
    "\n",
    "train_loader = DataLoader(\n",
    "    train_set,\n",
    "    batch_size=batch_size,\n",
    "    pin_memory=True,\n",
    "    num_workers=8,\n",
    "    shuffle=True,\n",
    ")"
   ]
  },
  {
   "cell_type": "code",
   "execution_count": 8,
   "metadata": {},
   "outputs": [],
   "source": [
    "import torch.nn as nn\n",
    "from pointnet2.models.pointnet2_msg_sem import model_fn_decorator\n",
    "\n",
    "model_fn = model_fn_decorator(nn.CrossEntropyLoss())"
   ]
  },
  {
   "cell_type": "code",
   "execution_count": 9,
   "metadata": {},
   "outputs": [
    {
     "name": "stdout",
     "output_type": "stream",
     "text": [
      "[tensor([[[-0.0600, -0.4690,  1.5780],\n",
      "         [ 0.4630, -0.4970,  1.9220],\n",
      "         [-0.0300, -0.4550,  0.1680],\n",
      "         ...,\n",
      "         [-0.4430,  0.2570,  0.0640],\n",
      "         [-0.4700,  0.1890,  2.7140],\n",
      "         [ 0.3910, -0.2530,  0.0590]]]), tensor([[6, 6, 6,  ..., 1, 0, 1]])]\n",
      "torch.Size([1, 128, 4096])\n"
     ]
    }
   ],
   "source": [
    "model.eval()\n",
    "model.cuda()\n",
    "for data in train_loader:\n",
    "    print(data)\n",
    "    _, loss, eval_res, features = model_fn(model, data, eval=True)\n",
    "    break\n",
    "print(features.shape)"
   ]
  },
  {
   "cell_type": "code",
   "execution_count": 10,
   "metadata": {},
   "outputs": [],
   "source": [
    "import numpy as np\n",
    "B = 1\n",
    "N = 125\n",
    "cube = torch.empty(B, N, 3).cuda()\n",
    "labels = torch.from_numpy(np.zeros((1, B * N), dtype = int)).view(B, N).cuda()\n",
    "\n",
    "for x in range(0, 5, 1):\n",
    "    for y in range(0, 5, 1):\n",
    "        for z in range(0, 5, 1):\n",
    "            cube[0, x + y*5 + z*25, :] = torch.tensor([x,y,z])\n",
    "\n",
    "# cube = cube.unsqueeze(-1)\n",
    "            \n",
    "cube1_xyz = cube - 5\n",
    "cube2_xyz = cube + torch.rand_like(cube)"
   ]
  },
  {
   "cell_type": "code",
   "execution_count": 11,
   "metadata": {},
   "outputs": [
    {
     "name": "stdout",
     "output_type": "stream",
     "text": [
      "tensor([-5., -5., -5.], device='cuda:0')\n",
      "torch.Size([1, 125])\n"
     ]
    }
   ],
   "source": [
    "print(cube1_xyz[0, 0, :])\n",
    "print(labels.shape)"
   ]
  },
  {
   "cell_type": "code",
   "execution_count": 12,
   "metadata": {},
   "outputs": [],
   "source": [
    "cube1_label_tor = labels\n",
    "cube2_label_tor = labels\n",
    "\n",
    "cube1_data_tor = (cube1_xyz, cube1_label_tor)\n",
    "cube2_data_tor = (cube2_xyz, cube2_label_tor)"
   ]
  },
  {
   "cell_type": "code",
   "execution_count": 13,
   "metadata": {},
   "outputs": [
    {
     "name": "stdout",
     "output_type": "stream",
     "text": [
      "torch.Size([1, 128, 125])\n",
      "tensor([[[3.1410, 3.1410, 3.1410,  ..., 3.1410, 3.1410, 3.1410],\n",
      "         [0.0000, 0.0000, 0.0000,  ..., 0.0000, 0.0000, 0.0000],\n",
      "         [0.7085, 0.7085, 0.7085,  ..., 0.7085, 0.7085, 0.7085],\n",
      "         ...,\n",
      "         [0.0000, 0.0000, 0.0000,  ..., 0.0000, 0.0000, 0.0000],\n",
      "         [0.0000, 0.0000, 0.0000,  ..., 0.0000, 0.0000, 0.0000],\n",
      "         [0.0000, 0.0000, 0.0000,  ..., 0.0000, 0.0000, 0.0000]]],\n",
      "       device='cuda:0')\n",
      "tensor([[[3.1410, 3.1410, 3.1412,  ..., 3.1410, 3.1410, 3.1410],\n",
      "         [0.0000, 0.0000, 0.0000,  ..., 0.0000, 0.0000, 0.0000],\n",
      "         [0.7085, 0.7086, 0.7088,  ..., 0.7085, 0.7085, 0.7085],\n",
      "         ...,\n",
      "         [0.0000, 0.0000, 0.0000,  ..., 0.0000, 0.0000, 0.0000],\n",
      "         [0.0000, 0.0000, 0.0000,  ..., 0.0000, 0.0000, 0.0000],\n",
      "         [0.0000, 0.0000, 0.0000,  ..., 0.0000, 0.0000, 0.0000]]],\n",
      "       device='cuda:0')\n"
     ]
    }
   ],
   "source": [
    "_, _, _, f1 = model_fn(model, cube1_data_tor, eval=True)\n",
    "_, _, _, f2 = model_fn(model, cube2_data_tor, eval=True)\n",
    "print(f1.shape)\n",
    "print(f1)\n",
    "print(f2)"
   ]
  },
  {
   "cell_type": "code",
   "execution_count": 14,
   "metadata": {},
   "outputs": [],
   "source": [
    "def compute_vec_dist(f1, f2):\n",
    "    return np.sqrt(np.sum(np.power((f1 - f2).cpu().numpy(), 2.0)))"
   ]
  },
  {
   "cell_type": "code",
   "execution_count": 15,
   "metadata": {},
   "outputs": [
    {
     "name": "stdout",
     "output_type": "stream",
     "text": [
      "2.3220127\n"
     ]
    }
   ],
   "source": [
    "dist = compute_vec_dist(f1, f2)\n",
    "print(dist)"
   ]
  },
  {
   "cell_type": "code",
   "execution_count": null,
   "metadata": {},
   "outputs": [],
   "source": []
  }
 ],
 "metadata": {
  "kernelspec": {
   "display_name": "Python 3",
   "language": "python",
   "name": "python3"
  },
  "language_info": {
   "codemirror_mode": {
    "name": "ipython",
    "version": 3
   },
   "file_extension": ".py",
   "mimetype": "text/x-python",
   "name": "python",
   "nbconvert_exporter": "python",
   "pygments_lexer": "ipython3",
   "version": "3.6.8"
  }
 },
 "nbformat": 4,
 "nbformat_minor": 2
}
