{
 "cells": [
  {
   "cell_type": "code",
   "execution_count": 1,
   "metadata": {},
   "outputs": [],
   "source": [
    "from pointnet2.utils.pointnet2_modules import PointnetSAModuleMSG, PointnetSAModule"
   ]
  },
  {
   "cell_type": "code",
   "execution_count": 2,
   "metadata": {},
   "outputs": [],
   "source": [
    "from torch.autograd import Variable\n",
    "import torch"
   ]
  },
  {
   "cell_type": "code",
   "execution_count": 3,
   "metadata": {},
   "outputs": [],
   "source": [
    "torch.manual_seed(1)\n",
    "torch.cuda.manual_seed_all(1)"
   ]
  },
  {
   "cell_type": "code",
   "execution_count": 4,
   "metadata": {},
   "outputs": [],
   "source": [
    "xyz = Variable(torch.randn(2, 9, 3).cuda(), requires_grad=True)\n",
    "xyz_feats = Variable(torch.randn(2, 9, 6).cuda(), requires_grad=True)"
   ]
  },
  {
   "cell_type": "code",
   "execution_count": 5,
   "metadata": {},
   "outputs": [
    {
     "name": "stdout",
     "output_type": "stream",
     "text": [
      "tensor([[[-1.5256, -0.7502, -0.6540],\n",
      "         [-1.6095, -0.1002, -0.6092],\n",
      "         [-0.9798, -1.6091, -0.7121],\n",
      "         [ 0.3037, -0.7773, -0.2515],\n",
      "         [-0.2223,  1.6871,  0.2284],\n",
      "         [ 0.4676, -0.6970, -1.1608],\n",
      "         [ 0.6995,  0.1991,  0.8657],\n",
      "         [ 0.2444, -0.6629,  0.8073],\n",
      "         [ 1.1017, -0.1759, -2.2456]],\n",
      "\n",
      "        [[-1.4465,  0.0612, -0.6177],\n",
      "         [-0.7981, -0.1316,  1.8793],\n",
      "         [-0.0721,  0.1578, -0.7735],\n",
      "         [ 0.1991,  0.0457,  1.1651],\n",
      "         [ 2.0154,  0.2152, -0.5242],\n",
      "         [-1.8034, -1.3083,  0.4533],\n",
      "         [ 1.1422, -3.3312, -0.7479],\n",
      "         [ 1.1173,  0.2981,  0.1099],\n",
      "         [-0.6463,  0.4285,  1.4761]]], device='cuda:0', requires_grad=True)\n"
     ]
    }
   ],
   "source": [
    "print(xyz)"
   ]
  },
  {
   "cell_type": "code",
   "execution_count": 6,
   "metadata": {},
   "outputs": [
    {
     "name": "stdout",
     "output_type": "stream",
     "text": [
      "(tensor([[[-1.5256, -0.7502, -0.6540],\n",
      "         [ 1.1017, -0.1759, -2.2456]],\n",
      "\n",
      "        [[-1.4465,  0.0612, -0.6177],\n",
      "         [ 1.1422, -3.3312, -0.7479]]], device='cuda:0',\n",
      "       grad_fn=<CloneBackward>), tensor([[[0.1114, 0.9845],\n",
      "         [0.8835, 1.8192],\n",
      "         [1.1286, 0.9887],\n",
      "         [0.0000, 0.6805],\n",
      "         [1.8098, 0.9786],\n",
      "         [0.9279, 1.1666],\n",
      "         [0.4875, 0.7851],\n",
      "         [1.0264, 0.7702],\n",
      "         [0.8286, 0.0000]],\n",
      "\n",
      "        [[2.1496, 2.3403],\n",
      "         [1.1343, 1.9554],\n",
      "         [1.8369, 0.7857],\n",
      "         [0.0000, 1.6078],\n",
      "         [0.6667, 0.8107],\n",
      "         [1.0543, 0.0524],\n",
      "         [1.1522, 0.0000],\n",
      "         [1.2703, 0.4379],\n",
      "         [1.2366, 1.6281]]], device='cuda:0', grad_fn=<CatBackward>))\n",
      "tensor([[[0.1114, 0.9845],\n",
      "         [0.8835, 1.8192],\n",
      "         [1.1286, 0.9887],\n",
      "         [0.0000, 0.6805],\n",
      "         [1.8098, 0.9786],\n",
      "         [0.9279, 1.1666],\n",
      "         [0.4875, 0.7851],\n",
      "         [1.0264, 0.7702],\n",
      "         [0.8286, 0.0000]],\n",
      "\n",
      "        [[2.1496, 2.3403],\n",
      "         [1.1343, 1.9554],\n",
      "         [1.8369, 0.7857],\n",
      "         [0.0000, 1.6078],\n",
      "         [0.6667, 0.8107],\n",
      "         [1.0543, 0.0524],\n",
      "         [1.1522, 0.0000],\n",
      "         [1.2703, 0.4379],\n",
      "         [1.2366, 1.6281]]], device='cuda:0', grad_fn=<CatBackward>)\n"
     ]
    }
   ],
   "source": [
    "test_module = PointnetSAModuleMSG(\n",
    "    npoint=2, radii=[5.0, 10.0], nsamples=[6, 3], mlps=[[9, 3], [9, 6]]\n",
    ")\n",
    "test_module.cuda()\n",
    "print(test_module(xyz, xyz_feats))\n",
    "\n",
    "#  test_module = PointnetFPModule(mlp=[6, 6])\n",
    "#  test_module.cuda()\n",
    "#  from torch.autograd import gradcheck\n",
    "#  inputs = (xyz, xyz, None, xyz_feats)\n",
    "#  test = gradcheck(test_module, inputs, eps=1e-6, atol=1e-4)\n",
    "#  print(test)\n",
    "\n",
    "for _ in range(1):\n",
    "    _, new_features = test_module(xyz, xyz_feats)\n",
    "    new_features.backward(torch.cuda.FloatTensor(*new_features.size()).fill_(1))\n",
    "    print(new_features)\n",
    "#     print(xyz.grad)"
   ]
  },
  {
   "cell_type": "markdown",
   "metadata": {},
   "source": [
    "# Try to get 128 features"
   ]
  },
  {
   "cell_type": "markdown",
   "metadata": {},
   "source": [
    "## 1. Load checkpionts"
   ]
  },
  {
   "cell_type": "markdown",
   "metadata": {},
   "source": [
    "##  2. Setup model"
   ]
  },
  {
   "cell_type": "markdown",
   "metadata": {},
   "source": [
    "## 3. Output features"
   ]
  },
  {
   "cell_type": "code",
   "execution_count": 7,
   "metadata": {},
   "outputs": [],
   "source": [
    "from pointnet2.models.pointnet2_msg_cls import Pointnet2MSG\n",
    "from pointnet2.models.pointnet2_msg_cls import model_fn_decorator\n",
    "import torch.nn as nn\n",
    "import torchvision\n",
    "\n",
    "%load_ext autoreload\n",
    "%autoreload 2"
   ]
  },
  {
   "cell_type": "code",
   "execution_count": 8,
   "metadata": {},
   "outputs": [],
   "source": [
    "model = Pointnet2MSG(input_channels=0, num_classes=40, use_xyz=True)"
   ]
  },
  {
   "cell_type": "code",
   "execution_count": 9,
   "metadata": {},
   "outputs": [
    {
     "data": {
      "text/plain": [
       "Pointnet2MSG(\n",
       "  (SA_modules): ModuleList(\n",
       "    (0): PointnetSAModuleMSG(\n",
       "      (groupers): ModuleList(\n",
       "        (0): QueryAndGroup()\n",
       "        (1): QueryAndGroup()\n",
       "        (2): QueryAndGroup()\n",
       "      )\n",
       "      (mlps): ModuleList(\n",
       "        (0): SharedMLP(\n",
       "          (layer0): Conv2d(\n",
       "            (conv): Conv2d(3, 32, kernel_size=(1, 1), stride=(1, 1), bias=False)\n",
       "            (normlayer): BatchNorm2d(\n",
       "              (bn): BatchNorm2d(32, eps=1e-05, momentum=0.1, affine=True, track_running_stats=True)\n",
       "            )\n",
       "            (activation): ReLU(inplace)\n",
       "          )\n",
       "          (layer1): Conv2d(\n",
       "            (conv): Conv2d(32, 32, kernel_size=(1, 1), stride=(1, 1), bias=False)\n",
       "            (normlayer): BatchNorm2d(\n",
       "              (bn): BatchNorm2d(32, eps=1e-05, momentum=0.1, affine=True, track_running_stats=True)\n",
       "            )\n",
       "            (activation): ReLU(inplace)\n",
       "          )\n",
       "          (layer2): Conv2d(\n",
       "            (conv): Conv2d(32, 64, kernel_size=(1, 1), stride=(1, 1), bias=False)\n",
       "            (normlayer): BatchNorm2d(\n",
       "              (bn): BatchNorm2d(64, eps=1e-05, momentum=0.1, affine=True, track_running_stats=True)\n",
       "            )\n",
       "            (activation): ReLU(inplace)\n",
       "          )\n",
       "        )\n",
       "        (1): SharedMLP(\n",
       "          (layer0): Conv2d(\n",
       "            (conv): Conv2d(3, 64, kernel_size=(1, 1), stride=(1, 1), bias=False)\n",
       "            (normlayer): BatchNorm2d(\n",
       "              (bn): BatchNorm2d(64, eps=1e-05, momentum=0.1, affine=True, track_running_stats=True)\n",
       "            )\n",
       "            (activation): ReLU(inplace)\n",
       "          )\n",
       "          (layer1): Conv2d(\n",
       "            (conv): Conv2d(64, 64, kernel_size=(1, 1), stride=(1, 1), bias=False)\n",
       "            (normlayer): BatchNorm2d(\n",
       "              (bn): BatchNorm2d(64, eps=1e-05, momentum=0.1, affine=True, track_running_stats=True)\n",
       "            )\n",
       "            (activation): ReLU(inplace)\n",
       "          )\n",
       "          (layer2): Conv2d(\n",
       "            (conv): Conv2d(64, 128, kernel_size=(1, 1), stride=(1, 1), bias=False)\n",
       "            (normlayer): BatchNorm2d(\n",
       "              (bn): BatchNorm2d(128, eps=1e-05, momentum=0.1, affine=True, track_running_stats=True)\n",
       "            )\n",
       "            (activation): ReLU(inplace)\n",
       "          )\n",
       "        )\n",
       "        (2): SharedMLP(\n",
       "          (layer0): Conv2d(\n",
       "            (conv): Conv2d(3, 64, kernel_size=(1, 1), stride=(1, 1), bias=False)\n",
       "            (normlayer): BatchNorm2d(\n",
       "              (bn): BatchNorm2d(64, eps=1e-05, momentum=0.1, affine=True, track_running_stats=True)\n",
       "            )\n",
       "            (activation): ReLU(inplace)\n",
       "          )\n",
       "          (layer1): Conv2d(\n",
       "            (conv): Conv2d(64, 96, kernel_size=(1, 1), stride=(1, 1), bias=False)\n",
       "            (normlayer): BatchNorm2d(\n",
       "              (bn): BatchNorm2d(96, eps=1e-05, momentum=0.1, affine=True, track_running_stats=True)\n",
       "            )\n",
       "            (activation): ReLU(inplace)\n",
       "          )\n",
       "          (layer2): Conv2d(\n",
       "            (conv): Conv2d(96, 128, kernel_size=(1, 1), stride=(1, 1), bias=False)\n",
       "            (normlayer): BatchNorm2d(\n",
       "              (bn): BatchNorm2d(128, eps=1e-05, momentum=0.1, affine=True, track_running_stats=True)\n",
       "            )\n",
       "            (activation): ReLU(inplace)\n",
       "          )\n",
       "        )\n",
       "      )\n",
       "    )\n",
       "    (1): PointnetSAModuleMSG(\n",
       "      (groupers): ModuleList(\n",
       "        (0): QueryAndGroup()\n",
       "        (1): QueryAndGroup()\n",
       "        (2): QueryAndGroup()\n",
       "      )\n",
       "      (mlps): ModuleList(\n",
       "        (0): SharedMLP(\n",
       "          (layer0): Conv2d(\n",
       "            (conv): Conv2d(323, 64, kernel_size=(1, 1), stride=(1, 1), bias=False)\n",
       "            (normlayer): BatchNorm2d(\n",
       "              (bn): BatchNorm2d(64, eps=1e-05, momentum=0.1, affine=True, track_running_stats=True)\n",
       "            )\n",
       "            (activation): ReLU(inplace)\n",
       "          )\n",
       "          (layer1): Conv2d(\n",
       "            (conv): Conv2d(64, 64, kernel_size=(1, 1), stride=(1, 1), bias=False)\n",
       "            (normlayer): BatchNorm2d(\n",
       "              (bn): BatchNorm2d(64, eps=1e-05, momentum=0.1, affine=True, track_running_stats=True)\n",
       "            )\n",
       "            (activation): ReLU(inplace)\n",
       "          )\n",
       "          (layer2): Conv2d(\n",
       "            (conv): Conv2d(64, 128, kernel_size=(1, 1), stride=(1, 1), bias=False)\n",
       "            (normlayer): BatchNorm2d(\n",
       "              (bn): BatchNorm2d(128, eps=1e-05, momentum=0.1, affine=True, track_running_stats=True)\n",
       "            )\n",
       "            (activation): ReLU(inplace)\n",
       "          )\n",
       "        )\n",
       "        (1): SharedMLP(\n",
       "          (layer0): Conv2d(\n",
       "            (conv): Conv2d(323, 128, kernel_size=(1, 1), stride=(1, 1), bias=False)\n",
       "            (normlayer): BatchNorm2d(\n",
       "              (bn): BatchNorm2d(128, eps=1e-05, momentum=0.1, affine=True, track_running_stats=True)\n",
       "            )\n",
       "            (activation): ReLU(inplace)\n",
       "          )\n",
       "          (layer1): Conv2d(\n",
       "            (conv): Conv2d(128, 128, kernel_size=(1, 1), stride=(1, 1), bias=False)\n",
       "            (normlayer): BatchNorm2d(\n",
       "              (bn): BatchNorm2d(128, eps=1e-05, momentum=0.1, affine=True, track_running_stats=True)\n",
       "            )\n",
       "            (activation): ReLU(inplace)\n",
       "          )\n",
       "          (layer2): Conv2d(\n",
       "            (conv): Conv2d(128, 256, kernel_size=(1, 1), stride=(1, 1), bias=False)\n",
       "            (normlayer): BatchNorm2d(\n",
       "              (bn): BatchNorm2d(256, eps=1e-05, momentum=0.1, affine=True, track_running_stats=True)\n",
       "            )\n",
       "            (activation): ReLU(inplace)\n",
       "          )\n",
       "        )\n",
       "        (2): SharedMLP(\n",
       "          (layer0): Conv2d(\n",
       "            (conv): Conv2d(323, 128, kernel_size=(1, 1), stride=(1, 1), bias=False)\n",
       "            (normlayer): BatchNorm2d(\n",
       "              (bn): BatchNorm2d(128, eps=1e-05, momentum=0.1, affine=True, track_running_stats=True)\n",
       "            )\n",
       "            (activation): ReLU(inplace)\n",
       "          )\n",
       "          (layer1): Conv2d(\n",
       "            (conv): Conv2d(128, 128, kernel_size=(1, 1), stride=(1, 1), bias=False)\n",
       "            (normlayer): BatchNorm2d(\n",
       "              (bn): BatchNorm2d(128, eps=1e-05, momentum=0.1, affine=True, track_running_stats=True)\n",
       "            )\n",
       "            (activation): ReLU(inplace)\n",
       "          )\n",
       "          (layer2): Conv2d(\n",
       "            (conv): Conv2d(128, 256, kernel_size=(1, 1), stride=(1, 1), bias=False)\n",
       "            (normlayer): BatchNorm2d(\n",
       "              (bn): BatchNorm2d(256, eps=1e-05, momentum=0.1, affine=True, track_running_stats=True)\n",
       "            )\n",
       "            (activation): ReLU(inplace)\n",
       "          )\n",
       "        )\n",
       "      )\n",
       "    )\n",
       "    (2): PointnetSAModule(\n",
       "      (groupers): ModuleList(\n",
       "        (0): GroupAll()\n",
       "      )\n",
       "      (mlps): ModuleList(\n",
       "        (0): SharedMLP(\n",
       "          (layer0): Conv2d(\n",
       "            (conv): Conv2d(643, 256, kernel_size=(1, 1), stride=(1, 1), bias=False)\n",
       "            (normlayer): BatchNorm2d(\n",
       "              (bn): BatchNorm2d(256, eps=1e-05, momentum=0.1, affine=True, track_running_stats=True)\n",
       "            )\n",
       "            (activation): ReLU(inplace)\n",
       "          )\n",
       "          (layer1): Conv2d(\n",
       "            (conv): Conv2d(256, 512, kernel_size=(1, 1), stride=(1, 1), bias=False)\n",
       "            (normlayer): BatchNorm2d(\n",
       "              (bn): BatchNorm2d(512, eps=1e-05, momentum=0.1, affine=True, track_running_stats=True)\n",
       "            )\n",
       "            (activation): ReLU(inplace)\n",
       "          )\n",
       "          (layer2): Conv2d(\n",
       "            (conv): Conv2d(512, 1024, kernel_size=(1, 1), stride=(1, 1), bias=False)\n",
       "            (normlayer): BatchNorm2d(\n",
       "              (bn): BatchNorm2d(1024, eps=1e-05, momentum=0.1, affine=True, track_running_stats=True)\n",
       "            )\n",
       "            (activation): ReLU(inplace)\n",
       "          )\n",
       "        )\n",
       "      )\n",
       "    )\n",
       "  )\n",
       "  (FC_layer): Seq(\n",
       "    (0): FC(\n",
       "      (fc): Linear(in_features=1024, out_features=512, bias=False)\n",
       "      (bn): BatchNorm1d(\n",
       "        (bn): BatchNorm1d(512, eps=1e-05, momentum=0.1, affine=True, track_running_stats=True)\n",
       "      )\n",
       "      (activation): ReLU(inplace)\n",
       "    )\n",
       "    (1): Dropout(p=0.5)\n",
       "    (2): FC(\n",
       "      (fc): Linear(in_features=512, out_features=256, bias=False)\n",
       "      (bn): BatchNorm1d(\n",
       "        (bn): BatchNorm1d(256, eps=1e-05, momentum=0.1, affine=True, track_running_stats=True)\n",
       "      )\n",
       "      (activation): ReLU(inplace)\n",
       "    )\n",
       "    (3): Dropout(p=0.5)\n",
       "    (4): FC(\n",
       "      (fc): Linear(in_features=256, out_features=40, bias=True)\n",
       "    )\n",
       "  )\n",
       ")"
      ]
     },
     "execution_count": 9,
     "metadata": {},
     "output_type": "execute_result"
    }
   ],
   "source": [
    "model.cuda()"
   ]
  },
  {
   "cell_type": "code",
   "execution_count": 10,
   "metadata": {},
   "outputs": [],
   "source": [
    "model_fn = model_fn_decorator(nn.CrossEntropyLoss())"
   ]
  },
  {
   "cell_type": "code",
   "execution_count": 11,
   "metadata": {},
   "outputs": [],
   "source": [
    "# use MdoelNet40Cls to see what are the input points format\n",
    "import pointnet2.data.data_utils as d_utils\n",
    "transforms = torchvision.transforms.Compose(\n",
    "        [\n",
    "            d_utils.PointcloudToTensor(),\n",
    "            d_utils.PointcloudScale(),\n",
    "            d_utils.PointcloudRotate(),\n",
    "            d_utils.PointcloudRotatePerturbation(),\n",
    "            d_utils.PointcloudTranslate(),\n",
    "            d_utils.PointcloudJitter(),\n",
    "            d_utils.PointcloudRandomInputDropout(),\n",
    "        ]\n",
    "    )\n",
    "\n",
    "from pointnet2.data import ModelNet40Cls\n",
    "num_points = 50000\n",
    "train_set = ModelNet40Cls(num_points, transforms=transforms)\n",
    "\n",
    "\n",
    "from torch.utils.data import DataLoader\n",
    "batch_size = 1\n",
    "train_loader = DataLoader(\n",
    "        train_set,\n",
    "        batch_size=batch_size,\n",
    "        shuffle=True,\n",
    "        num_workers=2,\n",
    "        pin_memory=True,\n",
    ")"
   ]
  },
  {
   "cell_type": "code",
   "execution_count": 12,
   "metadata": {},
   "outputs": [
    {
     "data": {
      "text/plain": [
       "array([[-0.25385302, -0.32723886,  0.06503981],\n",
       "       [-0.25385302, -0.32723886,  0.06503981],\n",
       "       [-0.25385302, -0.32723886,  0.06503981],\n",
       "       ...,\n",
       "       [-0.25385302, -0.32723886,  0.06503981],\n",
       "       [-0.24375083,  0.07920968, -0.06177698],\n",
       "       [-0.25385302, -0.32723886,  0.06503981]], dtype=float32)"
      ]
     },
     "execution_count": 12,
     "metadata": {},
     "output_type": "execute_result"
    }
   ],
   "source": [
    "train_set[0][0].numpy()"
   ]
  },
  {
   "cell_type": "code",
   "execution_count": 13,
   "metadata": {},
   "outputs": [
    {
     "data": {
      "text/plain": [
       "<Figure size 640x480 with 1 Axes>"
      ]
     },
     "metadata": {},
     "output_type": "display_data"
    }
   ],
   "source": [
    "from matplotlib import pyplot\n",
    "from mpl_toolkits.mplot3d import Axes3D\n",
    "import random\n",
    "\n",
    "fig = pyplot.figure()\n",
    "ax = Axes3D(fig)\n",
    "\n",
    "data_to_draw = train_set[0][0].numpy()\n",
    "\n",
    "sequence_containing_x_vals = data_to_draw[:, 0]\n",
    "sequence_containing_y_vals = data_to_draw[:, 1]\n",
    "sequence_containing_z_vals = data_to_draw[:, 2]\n",
    "\n",
    "ax.scatter(sequence_containing_x_vals, sequence_containing_y_vals, sequence_containing_z_vals)\n",
    "pyplot.show()"
   ]
  },
  {
   "cell_type": "code",
   "execution_count": 14,
   "metadata": {},
   "outputs": [],
   "source": [
    "# create a point(cloud) for above evaluations code"
   ]
  },
  {
   "cell_type": "code",
   "execution_count": 15,
   "metadata": {},
   "outputs": [],
   "source": [
    "# eval the model and print features\n",
    "model.eval()\n",
    "for data in train_loader:\n",
    "    _, loss, eval_res = model_fn(model, data, eval=True)\n",
    "    break"
   ]
  },
  {
   "cell_type": "code",
   "execution_count": 16,
   "metadata": {},
   "outputs": [
    {
     "name": "stdout",
     "output_type": "stream",
     "text": [
      "[[0.26790357]\n",
      " [0.        ]\n",
      " [0.        ]\n",
      " [0.37726364]\n",
      " [0.33487338]\n",
      " [0.8299709 ]\n",
      " [0.4946904 ]\n",
      " [0.030349  ]\n",
      " [0.        ]\n",
      " [0.        ]\n",
      " [0.        ]\n",
      " [0.        ]\n",
      " [0.        ]\n",
      " [0.        ]\n",
      " [0.        ]\n",
      " [0.        ]\n",
      " [0.11286031]\n",
      " [0.45479786]\n",
      " [0.04346748]\n",
      " [0.119688  ]\n",
      " [1.0395243 ]\n",
      " [0.70429385]\n",
      " [0.27868018]\n",
      " [0.45446604]\n",
      " [1.0125841 ]\n",
      " [0.08449543]\n",
      " [0.        ]\n",
      " [0.23594567]\n",
      " [0.        ]\n",
      " [0.15520291]\n",
      " [0.07605541]\n",
      " [0.43721718]\n",
      " [0.67015326]\n",
      " [0.        ]\n",
      " [0.23632905]\n",
      " [0.5777415 ]\n",
      " [0.3134924 ]\n",
      " [0.13102804]\n",
      " [0.58553445]\n",
      " [0.39738616]\n",
      " [0.07141984]\n",
      " [0.15555139]\n",
      " [0.        ]\n",
      " [0.20241901]\n",
      " [0.        ]\n",
      " [0.        ]\n",
      " [0.76397187]\n",
      " [0.        ]\n",
      " [0.        ]\n",
      " [0.27054942]\n",
      " [0.6010867 ]\n",
      " [0.3848288 ]\n",
      " [0.        ]\n",
      " [0.        ]\n",
      " [0.24528846]\n",
      " [0.30968735]\n",
      " [0.44619113]\n",
      " [0.6934825 ]\n",
      " [0.33882785]\n",
      " [0.02716545]\n",
      " [0.15735954]\n",
      " [0.        ]\n",
      " [0.60243064]\n",
      " [0.        ]\n",
      " [0.26516035]\n",
      " [0.06951035]\n",
      " [0.        ]\n",
      " [0.        ]\n",
      " [0.13923325]\n",
      " [0.1425806 ]\n",
      " [0.05742893]\n",
      " [0.        ]\n",
      " [0.        ]\n",
      " [0.54599184]\n",
      " [0.44919005]\n",
      " [1.1228344 ]\n",
      " [0.23242848]\n",
      " [0.        ]\n",
      " [0.        ]\n",
      " [0.        ]\n",
      " [0.5061655 ]\n",
      " [0.8701272 ]\n",
      " [0.06723682]\n",
      " [0.6789916 ]\n",
      " [0.11797484]\n",
      " [0.        ]\n",
      " [0.2610005 ]\n",
      " [0.44666213]\n",
      " [0.86406624]\n",
      " [0.01366774]\n",
      " [0.51629716]\n",
      " [0.        ]\n",
      " [0.        ]\n",
      " [0.29107702]\n",
      " [0.04721355]\n",
      " [0.22065616]\n",
      " [0.61127645]\n",
      " [0.33598787]\n",
      " [0.25592244]\n",
      " [0.        ]]\n"
     ]
    }
   ],
   "source": [
    "f1 = model.get_features()\n",
    "f1.unsqueeze(-1)\n",
    "print(f1.cpu().numpy()[0, 0:100])"
   ]
  },
  {
   "cell_type": "code",
   "execution_count": 17,
   "metadata": {},
   "outputs": [],
   "source": [
    "import numpy as np\n",
    "def compute_vec_dist(f1, f2):\n",
    "    return np.sqrt(np.sum(np.power(f1 - f2, 2.0)))"
   ]
  },
  {
   "cell_type": "code",
   "execution_count": 18,
   "metadata": {},
   "outputs": [
    {
     "name": "stdout",
     "output_type": "stream",
     "text": [
      "0.0\n"
     ]
    }
   ],
   "source": [
    "dist = compute_vec_dist(f1.cpu().numpy(), f1.cpu().numpy())\n",
    "print(dist)"
   ]
  },
  {
   "cell_type": "code",
   "execution_count": null,
   "metadata": {},
   "outputs": [],
   "source": []
  }
 ],
 "metadata": {
  "kernelspec": {
   "display_name": "Python 3",
   "language": "python",
   "name": "python3"
  },
  "language_info": {
   "codemirror_mode": {
    "name": "ipython",
    "version": 3
   },
   "file_extension": ".py",
   "mimetype": "text/x-python",
   "name": "python",
   "nbconvert_exporter": "python",
   "pygments_lexer": "ipython3",
   "version": "3.6.8"
  }
 },
 "nbformat": 4,
 "nbformat_minor": 2
}
